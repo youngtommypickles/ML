{
 "cells": [
  {
   "cell_type": "markdown",
   "id": "6a0f2fec",
   "metadata": {},
   "source": [
    "## Лабораторная работа 0-1 по курсу \"Машинное обучение\" \n",
    "\n",
    "| Студент | Цыкин  |\n",
    "|---------|--------|\n",
    "| Группа  | 301    |"
   ]
  },
  {
   "cell_type": "markdown",
   "id": "b39fe116",
   "metadata": {},
   "source": [
    "## Подключение библиотек"
   ]
  },
  {
   "cell_type": "code",
   "execution_count": 1,
   "id": "91a93a42",
   "metadata": {},
   "outputs": [],
   "source": [
    "import numpy as np \n",
    "import pandas as pd\n",
    "import matplotlib.pyplot as plt\n",
    "import seaborn as sns"
   ]
  },
  {
   "cell_type": "code",
   "execution_count": 2,
   "id": "6f80b878",
   "metadata": {},
   "outputs": [],
   "source": [
    "from scipy.stats import mode\n",
    "from sklearn.metrics import accuracy_score, confusion_matrix, recall_score, precision_score, roc_curve, classification_report, ConfusionMatrixDisplay\n",
    "import warnings\n",
    "warnings.filterwarnings('ignore')\n",
    "from sklearn.model_selection import GridSearchCV\n",
    "from sklearn.base import BaseEstimator, ClassifierMixin\n",
    "from sklearn.model_selection import train_test_split\n",
    "from sklearn.metrics import auc \n",
    "import joblib"
   ]
  },
  {
   "cell_type": "markdown",
   "id": "75c3e7c6",
   "metadata": {},
   "source": [
    "В этой части я подключаю необходимые библиотеки для реализации работы"
   ]
  },
  {
   "cell_type": "markdown",
   "id": "19ad44cb",
   "metadata": {},
   "source": [
    "## Загрузка данных"
   ]
  },
  {
   "cell_type": "code",
   "execution_count": 3,
   "id": "f3e19795",
   "metadata": {},
   "outputs": [
    {
     "data": {
      "text/plain": [
       "(15388, 28)"
      ]
     },
     "execution_count": 3,
     "metadata": {},
     "output_type": "execute_result"
    }
   ],
   "source": [
    "df = pd.read_csv('Data_classified_phase_.csv')\n",
    "df.shape"
   ]
  },
  {
   "cell_type": "code",
   "execution_count": 4,
   "id": "21279105",
   "metadata": {},
   "outputs": [
    {
     "data": {
      "text/plain": [
       "Index(['Kpmag', 'numax', 'e_numax', 'Delnu', 'e_Delnu', 'A', 'e_A', 'Width',\n",
       "       'e_Width', 'Teff', 'e_Teff', 'log(g)', 'e_log(g)', '[Fe/H]', 'e_[Fe/H]',\n",
       "       'NoCorM', 'e_NoCorM', 'NoCorR', 'e_NoCorR', 'RGBcorM', 'e_RGBcorM',\n",
       "       'RGBcorR', 'e_RGBcorR', 'ClcorM', 'e_ClcorM', 'ClcorR', 'e_ClcorR',\n",
       "       'Phase'],\n",
       "      dtype='object')"
      ]
     },
     "execution_count": 4,
     "metadata": {},
     "output_type": "execute_result"
    }
   ],
   "source": [
    "df.columns"
   ]
  },
  {
   "cell_type": "markdown",
   "id": "9cce94ca",
   "metadata": {},
   "source": [
    "## Pipeline"
   ]
  },
  {
   "cell_type": "code",
   "execution_count": 5,
   "id": "6a31ab68",
   "metadata": {},
   "outputs": [],
   "source": [
    "from sklearn.pipeline import Pipeline"
   ]
  },
  {
   "cell_type": "markdown",
   "id": "9175d193",
   "metadata": {},
   "source": [
    "Здесь я описал функцию, которая преобразает данные, как это было сделанно в 0 лабораторной работе. Но некоторые есть исключения, потерянные данные я поменял на среднее значения звезд первого класса, а так же нормировка данных."
   ]
  },
  {
   "cell_type": "code",
   "execution_count": 6,
   "id": "102f4eb1",
   "metadata": {},
   "outputs": [],
   "source": [
    "def trans(data):\n",
    "    df = data.copy()\n",
    "    arr = []\n",
    "    for column in df.columns:\n",
    "        if df.dtypes[column] == 'object':\n",
    "            arr.append(column)\n",
    "    for i in range(1, 20):    \n",
    "        df[df == i*' '] = np.nan\n",
    "    for i in arr:\n",
    "        df[i] = pd.to_numeric(df[i])\n",
    "    df_1 = df[df['Phase'] == 1]\n",
    "    for i in arr:    \n",
    "        df[i] = df[i].fillna(df[i].mean())\n",
    "    \n",
    "    par = [\"NoCorM\", \"e_NoCorM\", \"NoCorR\", \"e_NoCorR\",  \"RGBcorM\", \"e_RGBcorM\", \"RGBcorR\", \"e_RGBcorR\", \"Phase\"]\n",
    "    df = df.drop(par, axis = 1)\n",
    "    df=(df-df.mean())/df.std()\n",
    "    \n",
    "    return df\n",
    "    \n",
    "class SpInpTransformer():\n",
    "    def __init__(self,f):\n",
    "        self.func = f\n",
    "\n",
    "    def transform(self, input_df, **transform_params):\n",
    "        return self.func(input_df)\n",
    "  \n",
    "    def fit(self, X, y = None, **fit_params):\n",
    "        return self"
   ]
  },
  {
   "cell_type": "code",
   "execution_count": 7,
   "id": "6f017dfd",
   "metadata": {},
   "outputs": [],
   "source": [
    "X = df"
   ]
  },
  {
   "cell_type": "code",
   "execution_count": 8,
   "id": "af554886",
   "metadata": {},
   "outputs": [],
   "source": [
    "df_y = df.copy()\n",
    "y = df_y['Phase']"
   ]
  },
  {
   "cell_type": "code",
   "execution_count": 9,
   "id": "e4b6c246",
   "metadata": {},
   "outputs": [],
   "source": [
    "X_train, X_test, y_train, y_test = train_test_split(X, y, test_size=0.2, random_state=1234)"
   ]
  },
  {
   "cell_type": "markdown",
   "id": "d9be407e",
   "metadata": {},
   "source": [
    "## Линейная регрессия"
   ]
  },
  {
   "cell_type": "code",
   "execution_count": 10,
   "id": "40144635",
   "metadata": {},
   "outputs": [],
   "source": [
    "#коробочный классификатор\n",
    "from sklearn.linear_model import LinearRegression"
   ]
  },
  {
   "cell_type": "code",
   "execution_count": 11,
   "id": "90ab4813",
   "metadata": {},
   "outputs": [],
   "source": [
    "#своя реализация\n",
    "class my_LinearRegression(BaseEstimator, ClassifierMixin):\n",
    "    def __init__(self, lr=0.01):\n",
    "        self.lr = lr\n",
    "        self.iters = 1500\n",
    "        self.w = None\n",
    "        self.b = None\n",
    "    \n",
    "    def fit(self, X, y):\n",
    "        samples, features = X.shape\n",
    "        self.w = np.zeros(features)\n",
    "        self.b = 0\n",
    "        \n",
    "        for i in range(self.iters):\n",
    "            pred = np.dot(X, self.w) + self.b\n",
    "            dw = 1/samples * np.dot(X.T, (pred - y))\n",
    "            db = 1/samples * np.sum(pred - y)\n",
    "            self.w -= self.lr * dw\n",
    "            self.b -= self.lr * db\n",
    "    \n",
    "    def predict(self, X):\n",
    "        pred = np.dot(X, self.w) + self.b\n",
    "        y_pred = np.where(pred <=  1.5, 1, 2)\n",
    "            \n",
    "        return y_pred"
   ]
  },
  {
   "cell_type": "markdown",
   "id": "563d3e6b",
   "metadata": {},
   "source": [
    "Составление Pipeline'ов для моего классификатора и коробочного классификатора линейной регрессии"
   ]
  },
  {
   "cell_type": "code",
   "execution_count": 12,
   "id": "85dad663",
   "metadata": {},
   "outputs": [],
   "source": [
    "my_clf = Pipeline(\n",
    "    [\n",
    "        (\"trans\", SpInpTransformer(trans)),\n",
    "        (\"model\", my_LinearRegression())\n",
    "    ])\n",
    "\n",
    "clf = Pipeline(\n",
    "    [\n",
    "        (\"trans\", SpInpTransformer(trans)),\n",
    "        (\"model\", LinearRegression())\n",
    "    ])"
   ]
  },
  {
   "cell_type": "markdown",
   "id": "14465e26",
   "metadata": {},
   "source": [
    "Моя модель"
   ]
  },
  {
   "cell_type": "code",
   "execution_count": 13,
   "id": "7b9b0cd8",
   "metadata": {
    "scrolled": false
   },
   "outputs": [
    {
     "name": "stdout",
     "output_type": "stream",
     "text": [
      "Accuracy -  0.898635477582846\n",
      "recall_score -  0.8716612377850163\n",
      "precision -  0.9208534067446662\n"
     ]
    },
    {
     "data": {
      "image/png": "[encoded data removed]",
      "text/plain": [
       "<Figure size 432x288 with 1 Axes>"
      ]
     },
     "metadata": {
      "needs_background": "light"
     },
     "output_type": "display_data"
    },
    {
     "name": "stdout",
     "output_type": "stream",
     "text": [
      "confusion matrix:\n"
     ]
    },
    {
     "data": {
      "text/plain": [
       "<sklearn.metrics._plot.confusion_matrix.ConfusionMatrixDisplay at 0x27c7583d7f0>"
      ]
     },
     "execution_count": 13,
     "metadata": {},
     "output_type": "execute_result"
    },
    {
     "data": {
      "image/png": "[encoded data removed]",
      "text/plain": [
       "<Figure size 432x288 with 2 Axes>"
      ]
     },
     "metadata": {
      "needs_background": "light"
     },
     "output_type": "display_data"
    }
   ],
   "source": [
    "my_clf.fit(X_train, y_train)\n",
    "y_pred = my_clf.predict(X_test)\n",
    "print('Accuracy - ', accuracy_score(y_test, y_pred))\n",
    "print('recall_score - ', recall_score(y_test, y_pred))\n",
    "print('precision - ', precision_score(y_test, y_pred))\n",
    "fpr, tpr, thresholds = roc_curve(y_test, y_pred, pos_label=1)  \n",
    "AUC = auc(fpr, tpr) \n",
    "plt.plot(fpr, tpr)  \n",
    "plt.title('ROC_curve' + '(AUC: ' + str(AUC) + ')' )  \n",
    "plt.ylabel('True Positive Rate')  \n",
    "plt.xlabel('False Positive Rate')  \n",
    "plt.show()\n",
    "print('confusion matrix:')\n",
    "matrix = confusion_matrix(y_test, y_pred)\n",
    "plot = ConfusionMatrixDisplay(confusion_matrix=matrix)\n",
    "plot.plot()"
   ]
  },
  {
   "cell_type": "markdown",
   "id": "150f5571",
   "metadata": {},
   "source": [
    "Коробочная модель линейной регрессии"
   ]
  },
  {
   "cell_type": "code",
   "execution_count": 14,
   "id": "4594563a",
   "metadata": {
    "scrolled": false
   },
   "outputs": [
    {
     "name": "stdout",
     "output_type": "stream",
     "text": [
      "Accuracy -  0.9145549057829759\n",
      "recall_score -  0.8775244299674267\n",
      "precision -  0.9472573839662447\n"
     ]
    },
    {
     "data": {
      "image/png": "[encoded data removed]",
      "text/plain": [
       "<Figure size 432x288 with 1 Axes>"
      ]
     },
     "metadata": {
      "needs_background": "light"
     },
     "output_type": "display_data"
    },
    {
     "name": "stdout",
     "output_type": "stream",
     "text": [
      "confusion matrix:\n"
     ]
    },
    {
     "data": {
      "text/plain": [
       "<sklearn.metrics._plot.confusion_matrix.ConfusionMatrixDisplay at 0x27c759cd5b0>"
      ]
     },
     "execution_count": 14,
     "metadata": {},
     "output_type": "execute_result"
    },
    {
     "data": {
      "image/png": "[encoded data removed]",
      "text/plain": [
       "<Figure size 432x288 with 2 Axes>"
      ]
     },
     "metadata": {
      "needs_background": "light"
     },
     "output_type": "display_data"
    }
   ],
   "source": [
    "clf.fit(X_train, y_train)\n",
    "y_pred = clf.predict(X_test)\n",
    "y_pred = np.where(y_pred <=  1.5, 1, 2)\n",
    "print('Accuracy - ', accuracy_score(y_test, y_pred.astype(int)))\n",
    "print('recall_score - ', recall_score(y_test, y_pred.astype(int)))\n",
    "print('precision - ', precision_score(y_test, y_pred.astype(int)))\n",
    "fpr, tpr, thresholds = roc_curve(y_test, y_pred.astype(int), pos_label=1)  \n",
    "AUC = auc(fpr, tpr) \n",
    "plt.plot(fpr, tpr)  \n",
    "plt.title('ROC_curve' + '(AUC: ' + str(AUC) + ')' )  \n",
    "plt.ylabel('True Positive Rate')  \n",
    "plt.xlabel('False Positive Rate')  \n",
    "plt.show()\n",
    "print('confusion matrix:')\n",
    "matrix = confusion_matrix(y_test, y_pred.astype(int))\n",
    "plot = ConfusionMatrixDisplay(confusion_matrix=matrix)\n",
    "plot.plot()"
   ]
  },
  {
   "cell_type": "markdown",
   "id": "0f7c0227",
   "metadata": {},
   "source": [
    "Как можно отметить, результат коробочного классификатора лучше моего. Дальше попробуем определить наилушие параметры для классификатора. Не разобрался с использованием GridsearchCV для линейной регрессии, поэтому реализовал сам."
   ]
  },
  {
   "cell_type": "code",
   "execution_count": 15,
   "id": "11bbdaa4",
   "metadata": {},
   "outputs": [
    {
     "name": "stdout",
     "output_type": "stream",
     "text": [
      "0.3\n"
     ]
    }
   ],
   "source": [
    "###GridsearchCV\n",
    "param = []\n",
    "lr = [1, 0.5, 0.4, 0.3, 0.2, 0.1, 0.01]\n",
    "for i in lr:\n",
    "    my_clf = Pipeline(\n",
    "    [\n",
    "        (\"trans\", SpInpTransformer(trans)),\n",
    "        (\"model\", my_LinearRegression(i))\n",
    "    ])\n",
    "    my_clf.fit(X_train, y_train)\n",
    "    y_pred = my_clf.predict(X_test)\n",
    "    param.append(accuracy_score(y_test, y_pred))\n",
    "\n",
    "best = param.index(max(param))\n",
    "print(lr[best])"
   ]
  },
  {
   "cell_type": "markdown",
   "id": "75c4e270",
   "metadata": {},
   "source": [
    "Построим наилучший классификатор и создадим файл pickle"
   ]
  },
  {
   "cell_type": "code",
   "execution_count": 16,
   "id": "eee2e269",
   "metadata": {},
   "outputs": [],
   "source": [
    "my_clf = Pipeline(\n",
    "    [\n",
    "        (\"trans\", SpInpTransformer(trans)),\n",
    "        (\"model\", my_LinearRegression(0.3))\n",
    "    ])"
   ]
  },
  {
   "cell_type": "code",
   "execution_count": 17,
   "id": "456d741e",
   "metadata": {
    "scrolled": false
   },
   "outputs": [
    {
     "name": "stdout",
     "output_type": "stream",
     "text": [
      "Accuracy -  0.9142300194931774\n",
      "recall_score -  0.8775244299674267\n",
      "precision -  0.9465917076598735\n"
     ]
    },
    {
     "data": {
      "image/png": "[encoded data removed]",
      "text/plain": [
       "<Figure size 432x288 with 1 Axes>"
      ]
     },
     "metadata": {
      "needs_background": "light"
     },
     "output_type": "display_data"
    },
    {
     "name": "stdout",
     "output_type": "stream",
     "text": [
      "confusion matrix:\n"
     ]
    },
    {
     "data": {
      "text/plain": [
       "<sklearn.metrics._plot.confusion_matrix.ConfusionMatrixDisplay at 0x27c757e8e50>"
      ]
     },
     "execution_count": 17,
     "metadata": {},
     "output_type": "execute_result"
    },
    {
     "data": {
      "image/png": "[encoded data removed]",
      "text/plain": [
       "<Figure size 432x288 with 2 Axes>"
      ]
     },
     "metadata": {
      "needs_background": "light"
     },
     "output_type": "display_data"
    }
   ],
   "source": [
    "my_clf.fit(X_train, y_train)\n",
    "y_pred = my_clf.predict(X_test)\n",
    "print('Accuracy - ', accuracy_score(y_test, y_pred))\n",
    "print('recall_score - ', recall_score(y_test, y_pred))\n",
    "print('precision - ', precision_score(y_test, y_pred))\n",
    "fpr, tpr, thresholds = roc_curve(y_test, y_pred, pos_label=1)  \n",
    "AUC = auc(fpr, tpr) \n",
    "plt.plot(fpr, tpr)  \n",
    "plt.title('ROC_curve' + '(AUC: ' + str(AUC) + ')' )  \n",
    "plt.ylabel('True Positive Rate')  \n",
    "plt.xlabel('False Positive Rate')  \n",
    "plt.show()\n",
    "print('confusion matrix:')\n",
    "matrix = confusion_matrix(y_test, y_pred)\n",
    "plot = ConfusionMatrixDisplay(confusion_matrix=matrix)\n",
    "plot.plot()"
   ]
  },
  {
   "cell_type": "markdown",
   "id": "3aed4bc8",
   "metadata": {},
   "source": [
    "Как можем отметить, при использовании lr = 0.3 удалось построить наилучший классификатор и добиться улучшения точности на 2 процента."
   ]
  },
  {
   "cell_type": "code",
   "execution_count": 18,
   "id": "fa6dfcb3",
   "metadata": {},
   "outputs": [
    {
     "data": {
      "text/plain": [
       "['lin_reg.pkl']"
      ]
     },
     "execution_count": 18,
     "metadata": {},
     "output_type": "execute_result"
    }
   ],
   "source": [
    "joblib.dump(my_clf, \"lin_reg.pkl\")"
   ]
  },
  {
   "cell_type": "code",
   "execution_count": 19,
   "id": "3267ee1a",
   "metadata": {},
   "outputs": [
    {
     "data": {
      "text/plain": [
       "0.9142300194931774"
      ]
     },
     "execution_count": 19,
     "metadata": {},
     "output_type": "execute_result"
    }
   ],
   "source": [
    "clf = joblib.load(\"lin_reg.pkl\")\n",
    "y_pred = clf.predict(X_test)\n",
    "accuracy_score(y_pred, y_test)"
   ]
  },
  {
   "cell_type": "markdown",
   "id": "3bf2ab07",
   "metadata": {},
   "source": [
    "## Naive Bayes"
   ]
  },
  {
   "cell_type": "code",
   "execution_count": 20,
   "id": "b942c66a",
   "metadata": {},
   "outputs": [],
   "source": [
    "from sklearn.naive_bayes import GaussianNB"
   ]
  },
  {
   "cell_type": "code",
   "execution_count": 21,
   "id": "93911d29",
   "metadata": {},
   "outputs": [],
   "source": [
    "class NaiveBayes(BaseEstimator, ClassifierMixin):\n",
    "    def __init__(self):\n",
    "        self.classes = None \n",
    "        self.n = 0\n",
    "        self.mean = None\n",
    "        self.var = None\n",
    "        self.pri = None\n",
    "        \n",
    "    def fit(self, X, y):\n",
    "        samples, features = X.shape\n",
    "        self.classes = np.unique(y)\n",
    "        self.n = len(self.classes)\n",
    "        self.mean = np.zeros((self.n, features), dtype=np.float64)\n",
    "        self.var = np.zeros((self.n, features), dtype=np.float64)\n",
    "        self.pri = np.zeros(self.n, dtype=np.float64)\n",
    "        \n",
    "        for j in self.classes:\n",
    "            X_ = X[j==y]\n",
    "            self.mean[j-1] = X_.mean(axis=0)\n",
    "            self.var[j-1] = X_.var(axis=0)\n",
    "            self.pri[j-1] = X_.shape[0]/float(self.n)\n",
    "            \n",
    "    def func(self, idx, x):\n",
    "        mean = self.mean[idx]\n",
    "        var = self.var[idx]\n",
    "        num = np.exp(- (x-mean)**2 / (2*var))\n",
    "        denum = np.sqrt(2 * np.pi * var)\n",
    "        k = num / denum\n",
    "                \n",
    "        return k\n",
    "            \n",
    "    def _predict(self, x):\n",
    "        post = []\n",
    "    \n",
    "        for k in range(len(self.classes)):\n",
    "            pri = np.log(self.pri[k])\n",
    "            class_cond = np.sum(np.log(self.func(k, x)))\n",
    "            poster = pri + class_cond\n",
    "            post.append(poster)\n",
    "            \n",
    "        return self.classes[np.argmax(post)]\n",
    "    \n",
    "    def predict(self, X):\n",
    "        pred = [self._predict(x) for x in X.to_numpy()]\n",
    "        return pred"
   ]
  },
  {
   "cell_type": "markdown",
   "id": "6cae9e56",
   "metadata": {},
   "source": [
    "Составление Pipeline'ов для моего классификатора и коробочного классификатора Баевского метода"
   ]
  },
  {
   "cell_type": "code",
   "execution_count": 22,
   "id": "a9d0645e",
   "metadata": {},
   "outputs": [],
   "source": [
    "my_clf = Pipeline(\n",
    "    [\n",
    "        (\"trans\", SpInpTransformer(trans)),\n",
    "        (\"model\",  NaiveBayes())\n",
    "    ])\n",
    "\n",
    "clf = Pipeline([\n",
    "        ('trans', SpInpTransformer(trans)),     \n",
    "        ('model', GaussianNB()) \n",
    "    ])"
   ]
  },
  {
   "cell_type": "markdown",
   "id": "1a8d546f",
   "metadata": {},
   "source": [
    "Моя модель"
   ]
  },
  {
   "cell_type": "code",
   "execution_count": 23,
   "id": "39b96ec8",
   "metadata": {},
   "outputs": [
    {
     "name": "stdout",
     "output_type": "stream",
     "text": [
      "Accuracy -  0.8024691358024691\n",
      "recall_score -  0.6592833876221499\n",
      "precision -  0.9225159525979946\n"
     ]
    },
    {
     "data": {
      "image/png": "[encoded data removed]",
      "text/plain": [
       "<Figure size 432x288 with 1 Axes>"
      ]
     },
     "metadata": {
      "needs_background": "light"
     },
     "output_type": "display_data"
    },
    {
     "name": "stdout",
     "output_type": "stream",
     "text": [
      "confusion matrix:\n"
     ]
    },
    {
     "data": {
      "text/plain": [
       "<sklearn.metrics._plot.confusion_matrix.ConfusionMatrixDisplay at 0x27c757fb970>"
      ]
     },
     "execution_count": 23,
     "metadata": {},
     "output_type": "execute_result"
    },
    {
     "data": {
      "image/png": "[encoded data removed]",
      "text/plain": [
       "<Figure size 432x288 with 2 Axes>"
      ]
     },
     "metadata": {
      "needs_background": "light"
     },
     "output_type": "display_data"
    }
   ],
   "source": [
    "my_clf.fit(X_train, y_train)\n",
    "y_pred = my_clf.predict(X_test)\n",
    "print('Accuracy - ', accuracy_score(y_test, y_pred))\n",
    "print('recall_score - ', recall_score(y_test, y_pred))\n",
    "print('precision - ', precision_score(y_test, y_pred))\n",
    "fpr, tpr, thresholds = roc_curve(y_test, y_pred, pos_label=1)  \n",
    "AUC = auc(fpr, tpr) \n",
    "plt.plot(fpr, tpr)  \n",
    "plt.title('ROC_curve' + '(AUC: ' + str(AUC) + ')' )  \n",
    "plt.ylabel('True Positive Rate')  \n",
    "plt.xlabel('False Positive Rate')  \n",
    "plt.show()\n",
    "print('confusion matrix:')\n",
    "matrix = confusion_matrix(y_test, y_pred)\n",
    "plot = ConfusionMatrixDisplay(confusion_matrix=matrix)\n",
    "plot.plot()"
   ]
  },
  {
   "cell_type": "markdown",
   "id": "3e1c2fd3",
   "metadata": {},
   "source": [
    "Коробочная модель Баевского метода"
   ]
  },
  {
   "cell_type": "code",
   "execution_count": 24,
   "id": "992b3a26",
   "metadata": {},
   "outputs": [
    {
     "name": "stdout",
     "output_type": "stream",
     "text": [
      "Accuracy -  0.8024691358024691\n",
      "recall_score -  0.6592833876221499\n",
      "precision -  0.9225159525979946\n"
     ]
    },
    {
     "data": {
      "image/png": "[encoded data removed]",
      "text/plain": [
       "<Figure size 432x288 with 1 Axes>"
      ]
     },
     "metadata": {
      "needs_background": "light"
     },
     "output_type": "display_data"
    },
    {
     "name": "stdout",
     "output_type": "stream",
     "text": [
      "confusion matrix:\n"
     ]
    },
    {
     "data": {
      "text/plain": [
       "<sklearn.metrics._plot.confusion_matrix.ConfusionMatrixDisplay at 0x27c75c95ac0>"
      ]
     },
     "execution_count": 24,
     "metadata": {},
     "output_type": "execute_result"
    },
    {
     "data": {
      "image/png": "[encoded data removed]",
      "text/plain": [
       "<Figure size 432x288 with 2 Axes>"
      ]
     },
     "metadata": {
      "needs_background": "light"
     },
     "output_type": "display_data"
    }
   ],
   "source": [
    "clf.fit(X_train, y_train)\n",
    "y_pred = clf.predict(X_test)\n",
    "print('Accuracy - ', accuracy_score(y_test, y_pred))\n",
    "print('recall_score - ', recall_score(y_test, y_pred))\n",
    "print('precision - ', precision_score(y_test, y_pred))\n",
    "fpr, tpr, thresholds = roc_curve(y_test, y_pred, pos_label=1)  \n",
    "AUC = auc(fpr, tpr) \n",
    "plt.plot(fpr, tpr)  \n",
    "plt.title('ROC_curve' + '(AUC: ' + str(AUC) + ')' )  \n",
    "plt.ylabel('True Positive Rate')  \n",
    "plt.xlabel('False Positive Rate')  \n",
    "plt.show()\n",
    "print('confusion matrix:')\n",
    "matrix = confusion_matrix(y_test, y_pred)\n",
    "plot = ConfusionMatrixDisplay(confusion_matrix=matrix)\n",
    "plot.plot()"
   ]
  },
  {
   "cell_type": "markdown",
   "id": "678af413",
   "metadata": {},
   "source": [
    "GridSeearchCV для поиска наилучших параметров"
   ]
  },
  {
   "cell_type": "code",
   "execution_count": 25,
   "id": "0edd6e85",
   "metadata": {},
   "outputs": [
    {
     "data": {
      "text/plain": [
       "GridSearchCV(cv=5,\n",
       "             estimator=Pipeline(steps=[('trans',\n",
       "                                        <__main__.SpInpTransformer object at 0x0000027C7587E220>),\n",
       "                                       ('model', GaussianNB())]),\n",
       "             param_grid={'model__var_smoothing': array([1.00000000e+00, 8.11130831e-01, 6.57933225e-01, 5.33669923e-01,\n",
       "       4.32876128e-01, 3.51119173e-01, 2.84803587e-01, 2.31012970e-01,\n",
       "       1.87381742e-01, 1.51991108e-01, 1.23284674e-01, 1.00000000...\n",
       "       1.23284674e-07, 1.00000000e-07, 8.11130831e-08, 6.57933225e-08,\n",
       "       5.33669923e-08, 4.32876128e-08, 3.51119173e-08, 2.84803587e-08,\n",
       "       2.31012970e-08, 1.87381742e-08, 1.51991108e-08, 1.23284674e-08,\n",
       "       1.00000000e-08, 8.11130831e-09, 6.57933225e-09, 5.33669923e-09,\n",
       "       4.32876128e-09, 3.51119173e-09, 2.84803587e-09, 2.31012970e-09,\n",
       "       1.87381742e-09, 1.51991108e-09, 1.23284674e-09, 1.00000000e-09])})"
      ]
     },
     "execution_count": 25,
     "metadata": {},
     "output_type": "execute_result"
    }
   ],
   "source": [
    "parameters = {\n",
    "    'model__var_smoothing': np.logspace(0,-9, num=100)\n",
    "}\n",
    "grid_searcher = GridSearchCV(clf,  \n",
    "                           param_grid = parameters,\n",
    "                           cv = 5)\n",
    "grid_searcher.fit(X_train, y_train)"
   ]
  },
  {
   "cell_type": "code",
   "execution_count": 26,
   "id": "53828e59",
   "metadata": {},
   "outputs": [
    {
     "data": {
      "text/plain": [
       "{'model__var_smoothing': 8.111308307896872e-05}"
      ]
     },
     "execution_count": 26,
     "metadata": {},
     "output_type": "execute_result"
    }
   ],
   "source": [
    "grid_searcher.best_params_"
   ]
  },
  {
   "cell_type": "code",
   "execution_count": 27,
   "id": "a75ccf5c",
   "metadata": {
    "scrolled": false
   },
   "outputs": [
    {
     "name": "stdout",
     "output_type": "stream",
     "text": [
      "Accuracy -  0.8024691358024691\n",
      "recall_score -  0.6592833876221499\n",
      "precision -  0.9225159525979946\n"
     ]
    },
    {
     "data": {
      "image/png": "[encoded data removed]",
      "text/plain": [
       "<Figure size 432x288 with 1 Axes>"
      ]
     },
     "metadata": {
      "needs_background": "light"
     },
     "output_type": "display_data"
    },
    {
     "name": "stdout",
     "output_type": "stream",
     "text": [
      "confusion matrix:\n"
     ]
    },
    {
     "data": {
      "text/plain": [
       "<sklearn.metrics._plot.confusion_matrix.ConfusionMatrixDisplay at 0x27c75d8f850>"
      ]
     },
     "execution_count": 27,
     "metadata": {},
     "output_type": "execute_result"
    },
    {
     "data": {
      "image/png": "[encoded data removed]",
      "text/plain": [
       "<Figure size 432x288 with 2 Axes>"
      ]
     },
     "metadata": {
      "needs_background": "light"
     },
     "output_type": "display_data"
    }
   ],
   "source": [
    "y_pred = grid_searcher.predict(X_test)\n",
    "print('Accuracy - ', accuracy_score(y_test, y_pred))\n",
    "print('recall_score - ', recall_score(y_test, y_pred))\n",
    "print('precision - ', precision_score(y_test, y_pred))\n",
    "fpr, tpr, thresholds = roc_curve(y_test, y_pred, pos_label=1)  \n",
    "AUC = auc(fpr, tpr) \n",
    "plt.plot(fpr, tpr)  \n",
    "plt.title('ROC_curve' + '(AUC: ' + str(AUC) + ')' )  \n",
    "plt.ylabel('True Positive Rate')  \n",
    "plt.xlabel('False Positive Rate')  \n",
    "plt.show()\n",
    "print('confusion matrix:')\n",
    "matrix = confusion_matrix(y_test, y_pred)\n",
    "plot = ConfusionMatrixDisplay(confusion_matrix=matrix)\n",
    "plot.plot()"
   ]
  },
  {
   "cell_type": "markdown",
   "id": "ae81211f",
   "metadata": {},
   "source": [
    "Как можно заметить, точнось не улучшилась поэтому сохраню свой классификатор в формате pickle"
   ]
  },
  {
   "cell_type": "code",
   "execution_count": 28,
   "id": "cb6fe523",
   "metadata": {},
   "outputs": [
    {
     "data": {
      "text/plain": [
       "['NB.pkl']"
      ]
     },
     "execution_count": 28,
     "metadata": {},
     "output_type": "execute_result"
    }
   ],
   "source": [
    "joblib.dump(my_clf, \"NB.pkl\")"
   ]
  },
  {
   "cell_type": "code",
   "execution_count": 29,
   "id": "da4dc84e",
   "metadata": {},
   "outputs": [
    {
     "data": {
      "text/plain": [
       "0.8024691358024691"
      ]
     },
     "execution_count": 29,
     "metadata": {},
     "output_type": "execute_result"
    }
   ],
   "source": [
    "clf = joblib.load(\"NB.pkl\")\n",
    "y_pred = clf.predict(X_test)\n",
    "accuracy_score(y_pred, y_test)"
   ]
  },
  {
   "cell_type": "markdown",
   "id": "6d5f91dd",
   "metadata": {},
   "source": [
    "## SVM"
   ]
  },
  {
   "cell_type": "code",
   "execution_count": 30,
   "id": "f42fcf6d",
   "metadata": {},
   "outputs": [],
   "source": [
    "from sklearn.svm import SVC"
   ]
  },
  {
   "cell_type": "code",
   "execution_count": 31,
   "id": "174bba22",
   "metadata": {},
   "outputs": [],
   "source": [
    "class SVM(BaseEstimator, ClassifierMixin):\n",
    "    def __init__(self, lr=0.01, lamb=0.01, iters=1000):\n",
    "        self.lr = lr\n",
    "        self.lamb = lamb\n",
    "        self.iters = iters\n",
    "        self.w = None\n",
    "        self.b = None\n",
    "        self.n = 0\n",
    "        self.m = 0\n",
    "        \n",
    "    def fit(self, X, y):\n",
    "        self.n = y.max()\n",
    "        self.m = y.min()\n",
    "        y_ = np.where(y <= (self.n+self.m)/2, -1, 1)\n",
    "        samples, features = X.shape\n",
    "        self.w = np.zeros(features)\n",
    "        self.b = 0\n",
    "        \n",
    "        for i in range(self.iters):\n",
    "            for j, x_j in enumerate(X.to_numpy()):\n",
    "                cond = y_[j] * (np.dot(x_j, self.w) - self.b) >= 1\n",
    "                if cond:\n",
    "                    self.w -= self.lr * (2 * self.lamb * self.w)\n",
    "                else:\n",
    "                    self.w -= self.lr * (2 * self.lamb * self.w - np.dot(x_j, y_[j]))\n",
    "                    self.b -= self.lr * y_[j]\n",
    "                    \n",
    "    def predict(self, X):\n",
    "        linear = np.sign(np.dot(X, self.w) - self.b)\n",
    "        pred = np.where(linear <= 0, self.m, self.n)\n",
    "        return pred"
   ]
  },
  {
   "cell_type": "markdown",
   "id": "586f9efe",
   "metadata": {},
   "source": [
    "Составление Pipeline'ов для моего классификатора и коробочного классификатора SVM"
   ]
  },
  {
   "cell_type": "code",
   "execution_count": 32,
   "id": "30a93b1f",
   "metadata": {},
   "outputs": [],
   "source": [
    "my_clf = Pipeline(\n",
    "    [\n",
    "        (\"trans\", SpInpTransformer(trans)),\n",
    "        (\"model\",  SVM())\n",
    "    ])\n",
    "\n",
    "clf = Pipeline([\n",
    "        ('trans', SpInpTransformer(trans)),     \n",
    "        ('model', SVC()) \n",
    "    ])"
   ]
  },
  {
   "cell_type": "markdown",
   "id": "1102d539",
   "metadata": {},
   "source": [
    "Моя модель"
   ]
  },
  {
   "cell_type": "code",
   "execution_count": 33,
   "id": "fb1ba011",
   "metadata": {},
   "outputs": [
    {
     "name": "stdout",
     "output_type": "stream",
     "text": [
      "Accuracy -  0.9171539961013645\n",
      "recall_score -  0.9022801302931596\n",
      "precision -  0.9295302013422819\n"
     ]
    },
    {
     "data": {
      "image/png": "[encoded data removed]",
      "text/plain": [
       "<Figure size 432x288 with 1 Axes>"
      ]
     },
     "metadata": {
      "needs_background": "light"
     },
     "output_type": "display_data"
    },
    {
     "name": "stdout",
     "output_type": "stream",
     "text": [
      "confusion matrix:\n"
     ]
    },
    {
     "data": {
      "text/plain": [
       "<sklearn.metrics._plot.confusion_matrix.ConfusionMatrixDisplay at 0x27c75eb1f40>"
      ]
     },
     "execution_count": 33,
     "metadata": {},
     "output_type": "execute_result"
    },
    {
     "data": {
      "image/png": "[encoded data removed]",
      "text/plain": [
       "<Figure size 432x288 with 2 Axes>"
      ]
     },
     "metadata": {
      "needs_background": "light"
     },
     "output_type": "display_data"
    }
   ],
   "source": [
    "my_clf.fit(X_train, y_train)\n",
    "y_pred = my_clf.predict(X_test)\n",
    "print('Accuracy - ', accuracy_score(y_test, y_pred))\n",
    "print('recall_score - ', recall_score(y_test, y_pred))\n",
    "print('precision - ', precision_score(y_test, y_pred))\n",
    "fpr, tpr, thresholds = roc_curve(y_test, y_pred, pos_label=1)  \n",
    "AUC = auc(fpr, tpr) \n",
    "plt.plot(fpr, tpr)  \n",
    "plt.title('ROC_curve' + '(AUC: ' + str(AUC) + ')' )  \n",
    "plt.ylabel('True Positive Rate')  \n",
    "plt.xlabel('False Positive Rate')  \n",
    "plt.show()\n",
    "print('confusion matrix:')\n",
    "matrix = confusion_matrix(y_test, y_pred)\n",
    "plot = ConfusionMatrixDisplay(confusion_matrix=matrix)\n",
    "plot.plot()"
   ]
  },
  {
   "cell_type": "markdown",
   "id": "74fb2d92",
   "metadata": {},
   "source": [
    "Коробочная модель SVM(SVC)"
   ]
  },
  {
   "cell_type": "code",
   "execution_count": 34,
   "id": "f4c9355c",
   "metadata": {},
   "outputs": [
    {
     "name": "stdout",
     "output_type": "stream",
     "text": [
      "Accuracy -  0.9632878492527616\n",
      "recall_score -  0.9680781758957655\n",
      "precision -  0.9587096774193549\n"
     ]
    },
    {
     "data": {
      "image/png": "[encoded data removed]",
      "text/plain": [
       "<Figure size 432x288 with 1 Axes>"
      ]
     },
     "metadata": {
      "needs_background": "light"
     },
     "output_type": "display_data"
    },
    {
     "name": "stdout",
     "output_type": "stream",
     "text": [
      "confusion matrix:\n"
     ]
    },
    {
     "data": {
      "text/plain": [
       "<sklearn.metrics._plot.confusion_matrix.ConfusionMatrixDisplay at 0x27c75dba460>"
      ]
     },
     "execution_count": 34,
     "metadata": {},
     "output_type": "execute_result"
    },
    {
     "data": {
      "image/png": "[encoded data removed]",
      "text/plain": [
       "<Figure size 432x288 with 2 Axes>"
      ]
     },
     "metadata": {
      "needs_background": "light"
     },
     "output_type": "display_data"
    }
   ],
   "source": [
    "clf.fit(X_train, y_train)\n",
    "y_pred = clf.predict(X_test)\n",
    "print('Accuracy - ', accuracy_score(y_test, y_pred))\n",
    "print('recall_score - ', recall_score(y_test, y_pred))\n",
    "print('precision - ', precision_score(y_test, y_pred))\n",
    "fpr, tpr, thresholds = roc_curve(y_test, y_pred, pos_label=1)  \n",
    "AUC = auc(fpr, tpr) \n",
    "plt.plot(fpr, tpr)  \n",
    "plt.title('ROC_curve' + '(AUC: ' + str(AUC) + ')' )  \n",
    "plt.ylabel('True Positive Rate')  \n",
    "plt.xlabel('False Positive Rate')  \n",
    "plt.show()\n",
    "print('confusion matrix:')\n",
    "matrix = confusion_matrix(y_test, y_pred)\n",
    "plot = ConfusionMatrixDisplay(confusion_matrix=matrix)\n",
    "plot.plot()"
   ]
  },
  {
   "cell_type": "markdown",
   "id": "d0fcab10",
   "metadata": {},
   "source": [
    "GridSearchCV для SVM"
   ]
  },
  {
   "cell_type": "code",
   "execution_count": 35,
   "id": "67e505dc",
   "metadata": {},
   "outputs": [
    {
     "data": {
      "text/plain": [
       "GridSearchCV(cv=5,\n",
       "             estimator=Pipeline(steps=[('trans',\n",
       "                                        <__main__.SpInpTransformer object at 0x0000027C75AE4BB0>),\n",
       "                                       ('model', SVC())]),\n",
       "             param_grid={'model__C': [0.1, 1, 10, 100]})"
      ]
     },
     "execution_count": 35,
     "metadata": {},
     "output_type": "execute_result"
    }
   ],
   "source": [
    "param_grid = {'model__C':[0.1, 1, 10, 100],}\n",
    "grid_searcher = GridSearchCV(clf,  param_grid, cv = 5)\n",
    "grid_searcher.fit(X_train, y_train)"
   ]
  },
  {
   "cell_type": "code",
   "execution_count": 36,
   "id": "64f88395",
   "metadata": {},
   "outputs": [
    {
     "data": {
      "text/plain": [
       "{'model__C': 1}"
      ]
     },
     "execution_count": 36,
     "metadata": {},
     "output_type": "execute_result"
    }
   ],
   "source": [
    "grid_searcher.best_params_"
   ]
  },
  {
   "cell_type": "code",
   "execution_count": 37,
   "id": "7e2cade3",
   "metadata": {
    "scrolled": false
   },
   "outputs": [
    {
     "name": "stdout",
     "output_type": "stream",
     "text": [
      "Accuracy -  0.9632878492527616\n",
      "recall_score -  0.9680781758957655\n",
      "precision -  0.9587096774193549\n"
     ]
    },
    {
     "data": {
      "image/png": "[encoded data removed]",
      "text/plain": [
       "<Figure size 432x288 with 1 Axes>"
      ]
     },
     "metadata": {
      "needs_background": "light"
     },
     "output_type": "display_data"
    },
    {
     "name": "stdout",
     "output_type": "stream",
     "text": [
      "confusion matrix:\n"
     ]
    },
    {
     "data": {
      "text/plain": [
       "<sklearn.metrics._plot.confusion_matrix.ConfusionMatrixDisplay at 0x27c7581ce50>"
      ]
     },
     "execution_count": 37,
     "metadata": {},
     "output_type": "execute_result"
    },
    {
     "data": {
      "image/png": "[encoded data removed]",
      "text/plain": [
       "<Figure size 432x288 with 2 Axes>"
      ]
     },
     "metadata": {
      "needs_background": "light"
     },
     "output_type": "display_data"
    }
   ],
   "source": [
    "y_pred = grid_searcher.predict(X_test)\n",
    "print('Accuracy - ', accuracy_score(y_test, y_pred))\n",
    "print('recall_score - ', recall_score(y_test, y_pred))\n",
    "print('precision - ', precision_score(y_test, y_pred))\n",
    "fpr, tpr, thresholds = roc_curve(y_test, y_pred, pos_label=1)  \n",
    "AUC = auc(fpr, tpr) \n",
    "plt.plot(fpr, tpr)  \n",
    "plt.title('ROC_curve' + '(AUC: ' + str(AUC) + ')' )  \n",
    "plt.ylabel('True Positive Rate')  \n",
    "plt.xlabel('False Positive Rate')  \n",
    "plt.show()\n",
    "print('confusion matrix:')\n",
    "matrix = confusion_matrix(y_test, y_pred)\n",
    "plot = ConfusionMatrixDisplay(confusion_matrix=matrix)\n",
    "plot.plot()"
   ]
  },
  {
   "cell_type": "markdown",
   "id": "4158157d",
   "metadata": {},
   "source": [
    "Наилучшим оказался коробочный классификатор, сохраним его"
   ]
  },
  {
   "cell_type": "code",
   "execution_count": 38,
   "id": "35c6e357",
   "metadata": {},
   "outputs": [
    {
     "data": {
      "text/plain": [
       "['SVM.pkl']"
      ]
     },
     "execution_count": 38,
     "metadata": {},
     "output_type": "execute_result"
    }
   ],
   "source": [
    "joblib.dump(grid_searcher, \"SVM.pkl\")"
   ]
  },
  {
   "cell_type": "code",
   "execution_count": 39,
   "id": "cbc8e5a9",
   "metadata": {},
   "outputs": [
    {
     "data": {
      "text/plain": [
       "0.9632878492527616"
      ]
     },
     "execution_count": 39,
     "metadata": {},
     "output_type": "execute_result"
    }
   ],
   "source": [
    "clf = joblib.load(\"SVM.pkl\")\n",
    "y_pred = clf.predict(X_test)\n",
    "accuracy_score(y_pred, y_test)"
   ]
  },
  {
   "cell_type": "markdown",
   "id": "4f55d73d",
   "metadata": {},
   "source": [
    "## KNN"
   ]
  },
  {
   "cell_type": "code",
   "execution_count": 40,
   "id": "d7d423c9",
   "metadata": {},
   "outputs": [],
   "source": [
    "from sklearn.neighbors import KNeighborsClassifier"
   ]
  },
  {
   "cell_type": "code",
   "execution_count": 41,
   "id": "5da79342",
   "metadata": {},
   "outputs": [],
   "source": [
    "class KNN(BaseEstimator, ClassifierMixin):\n",
    "    def __init__(self, n_val=5):\n",
    "        self.n_val = n_val\n",
    "        self.train = None\n",
    "        self.validation = None\n",
    "\n",
    "    def fit(self, X, y):\n",
    "        self.train = X\n",
    "        self.validation = y\n",
    "        \n",
    "    def predict(self, X):\n",
    "        prediction = []\n",
    "        j = 1\n",
    "        n = len(X)\n",
    "        for y_test in X.to_numpy():\n",
    "            distance = []\n",
    "            for i in range(len(self.train)):\n",
    "                distance.append(np.linalg.norm(np.array(self.train.iloc[i]) - y_test))\n",
    "                \n",
    "            distance_data = pd.DataFrame(data = distance, columns = ['dist'], index = self.validation.index)\n",
    "            neighbours = distance_data.sort_values(by='dist', axis=0)[:self.n_val]\n",
    "            \n",
    "            labels = self.validation.loc[neighbours.index]\n",
    "            vote = mode(labels).mode[0]\n",
    "            \n",
    "            prediction.append(vote)\n",
    "            j+=1\n",
    "            \n",
    "        return prediction"
   ]
  },
  {
   "cell_type": "markdown",
   "id": "23556f2b",
   "metadata": {},
   "source": [
    "Составление Pipeline'ов для моего классификатора и коробочного классификатора KNN"
   ]
  },
  {
   "cell_type": "code",
   "execution_count": 42,
   "id": "799dd727",
   "metadata": {},
   "outputs": [],
   "source": [
    "my_clf = Pipeline(\n",
    "    [\n",
    "        (\"trans\", SpInpTransformer(trans)),\n",
    "        (\"model\", KNN())\n",
    "    ])\n",
    "\n",
    "clf = Pipeline([\n",
    "        ('trans', SpInpTransformer(trans)),     \n",
    "        ('knn', KNeighborsClassifier(algorithm='brute')) \n",
    "    ])"
   ]
  },
  {
   "cell_type": "markdown",
   "id": "65f2fcd4",
   "metadata": {},
   "source": [
    "Моя модель"
   ]
  },
  {
   "cell_type": "markdown",
   "id": "559dc221",
   "metadata": {},
   "source": [
    "Использовал на малом числе тестовых значений, потому что работал долго"
   ]
  },
  {
   "cell_type": "code",
   "execution_count": 43,
   "id": "f2fe01b3",
   "metadata": {},
   "outputs": [
    {
     "name": "stdout",
     "output_type": "stream",
     "text": [
      "Accuracy -  0.955\n",
      "recall_score -  0.9489795918367347\n",
      "precision -  0.9587628865979382\n"
     ]
    },
    {
     "data": {
      "image/png": "[encoded data removed]",
      "text/plain": [
       "<Figure size 432x288 with 1 Axes>"
      ]
     },
     "metadata": {
      "needs_background": "light"
     },
     "output_type": "display_data"
    },
    {
     "name": "stdout",
     "output_type": "stream",
     "text": [
      "confusion matrix:\n"
     ]
    },
    {
     "data": {
      "text/plain": [
       "<sklearn.metrics._plot.confusion_matrix.ConfusionMatrixDisplay at 0x27c7b366ee0>"
      ]
     },
     "execution_count": 43,
     "metadata": {},
     "output_type": "execute_result"
    },
    {
     "data": {
      "image/png": "[encoded data removed]",
      "text/plain": [
       "<Figure size 432x288 with 2 Axes>"
      ]
     },
     "metadata": {
      "needs_background": "light"
     },
     "output_type": "display_data"
    }
   ],
   "source": [
    "my_clf.fit(X_train, y_train)\n",
    "y_pred = my_clf.predict(X_test[:200])\n",
    "print('Accuracy - ', accuracy_score(y_test[:200], y_pred))\n",
    "print('recall_score - ', recall_score(y_test[:200], y_pred))\n",
    "print('precision - ', precision_score(y_test[:200], y_pred))\n",
    "fpr, tpr, thresholds = roc_curve(y_test[:200], y_pred, pos_label=1)  \n",
    "AUC = auc(fpr, tpr) \n",
    "plt.plot(fpr, tpr)  \n",
    "plt.title('ROC_curve' + '(AUC: ' + str(AUC) + ')' )  \n",
    "plt.ylabel('True Positive Rate')  \n",
    "plt.xlabel('False Positive Rate')  \n",
    "plt.show()\n",
    "print('confusion matrix:')\n",
    "matrix = confusion_matrix(y_test[:200], y_pred)\n",
    "plot = ConfusionMatrixDisplay(confusion_matrix=matrix)\n",
    "plot.plot()"
   ]
  },
  {
   "cell_type": "markdown",
   "id": "c7723cae",
   "metadata": {},
   "source": [
    "Коробочная модель KNN"
   ]
  },
  {
   "cell_type": "code",
   "execution_count": 44,
   "id": "fd2a2254",
   "metadata": {},
   "outputs": [
    {
     "name": "stdout",
     "output_type": "stream",
     "text": [
      "Accuracy -  0.955\n",
      "recall_score -  0.9489795918367347\n",
      "precision -  0.9587628865979382\n"
     ]
    },
    {
     "data": {
      "image/png": "[encoded data removed]",
      "text/plain": [
       "<Figure size 432x288 with 1 Axes>"
      ]
     },
     "metadata": {
      "needs_background": "light"
     },
     "output_type": "display_data"
    },
    {
     "name": "stdout",
     "output_type": "stream",
     "text": [
      "confusion matrix:\n"
     ]
    },
    {
     "data": {
      "text/plain": [
       "<sklearn.metrics._plot.confusion_matrix.ConfusionMatrixDisplay at 0x27c77061a00>"
      ]
     },
     "execution_count": 44,
     "metadata": {},
     "output_type": "execute_result"
    },
    {
     "data": {
      "image/png": "[encoded data removed]",
      "text/plain": [
       "<Figure size 432x288 with 2 Axes>"
      ]
     },
     "metadata": {
      "needs_background": "light"
     },
     "output_type": "display_data"
    }
   ],
   "source": [
    "clf.fit(X_train, y_train)\n",
    "y_pred = clf.predict(X_test[:200])\n",
    "print('Accuracy - ', accuracy_score(y_test[:200], y_pred))\n",
    "print('recall_score - ', recall_score(y_test[:200], y_pred))\n",
    "print('precision - ', precision_score(y_test[:200], y_pred))\n",
    "fpr, tpr, thresholds = roc_curve(y_test[:200], y_pred, pos_label=1)  \n",
    "AUC = auc(fpr, tpr) \n",
    "plt.plot(fpr, tpr)  \n",
    "plt.title('ROC_curve' + '(AUC: ' + str(AUC) + ')' )  \n",
    "plt.ylabel('True Positive Rate')  \n",
    "plt.xlabel('False Positive Rate')  \n",
    "plt.show()\n",
    "print('confusion matrix:')\n",
    "matrix = confusion_matrix(y_test[:200], y_pred)\n",
    "plot = ConfusionMatrixDisplay(confusion_matrix=matrix)\n",
    "plot.plot()"
   ]
  },
  {
   "cell_type": "markdown",
   "id": "b60d7312",
   "metadata": {},
   "source": [
    "GridSearchCV для KNN"
   ]
  },
  {
   "cell_type": "code",
   "execution_count": 45,
   "id": "8fc6c07d",
   "metadata": {},
   "outputs": [],
   "source": [
    "params = {\n",
    "    'knn__n_neighbors': [3, 5, 7, 9, 11]\n",
    "}\n",
    "grid_searcher = GridSearchCV(estimator=clf, param_grid=params, cv=5, return_train_score=True)"
   ]
  },
  {
   "cell_type": "code",
   "execution_count": 46,
   "id": "41d56284",
   "metadata": {},
   "outputs": [
    {
     "data": {
      "text/plain": [
       "{'knn__n_neighbors': 7}"
      ]
     },
     "execution_count": 46,
     "metadata": {},
     "output_type": "execute_result"
    }
   ],
   "source": [
    "grid_searcher.fit(X_train, y_train)\n",
    "grid_searcher.best_params_"
   ]
  },
  {
   "cell_type": "code",
   "execution_count": 47,
   "id": "792ed99e",
   "metadata": {},
   "outputs": [
    {
     "name": "stdout",
     "output_type": "stream",
     "text": [
      "Accuracy -  0.9506172839506173\n",
      "recall_score -  0.9433224755700326\n",
      "precision -  0.9570389953734303\n"
     ]
    },
    {
     "data": {
      "image/png": "[encoded data removed]",
      "text/plain": [
       "<Figure size 432x288 with 1 Axes>"
      ]
     },
     "metadata": {
      "needs_background": "light"
     },
     "output_type": "display_data"
    },
    {
     "name": "stdout",
     "output_type": "stream",
     "text": [
      "confusion matrix:\n"
     ]
    },
    {
     "data": {
      "text/plain": [
       "<sklearn.metrics._plot.confusion_matrix.ConfusionMatrixDisplay at 0x27c0302e130>"
      ]
     },
     "execution_count": 47,
     "metadata": {},
     "output_type": "execute_result"
    },
    {
     "data": {
      "image/png": "[encoded data removed]",
      "text/plain": [
       "<Figure size 432x288 with 2 Axes>"
      ]
     },
     "metadata": {
      "needs_background": "light"
     },
     "output_type": "display_data"
    }
   ],
   "source": [
    "y_pred = grid_searcher.predict(X_test)\n",
    "print('Accuracy - ', accuracy_score(y_test, y_pred))\n",
    "print('recall_score - ', recall_score(y_test, y_pred))\n",
    "print('precision - ', precision_score(y_test, y_pred))\n",
    "fpr, tpr, thresholds = roc_curve(y_test, y_pred, pos_label=1)  \n",
    "AUC = auc(fpr, tpr) \n",
    "plt.plot(fpr, tpr)  \n",
    "plt.title('ROC_curve' + '(AUC: ' + str(AUC) + ')' )  \n",
    "plt.ylabel('True Positive Rate')  \n",
    "plt.xlabel('False Positive Rate')  \n",
    "plt.show()\n",
    "print('confusion matrix:')\n",
    "matrix = confusion_matrix(y_test, y_pred)\n",
    "plot = ConfusionMatrixDisplay(confusion_matrix=matrix)\n",
    "plot.plot()"
   ]
  },
  {
   "cell_type": "markdown",
   "id": "a5888594",
   "metadata": {},
   "source": [
    "На испытании на тестовых данных с 7 ближайшими соседями выдал тоже хороший результат, сохраним его"
   ]
  },
  {
   "cell_type": "code",
   "execution_count": 48,
   "id": "409ec3d5",
   "metadata": {},
   "outputs": [
    {
     "data": {
      "text/plain": [
       "['KNN.pkl']"
      ]
     },
     "execution_count": 48,
     "metadata": {},
     "output_type": "execute_result"
    }
   ],
   "source": [
    "joblib.dump(grid_searcher, \"KNN.pkl\")"
   ]
  },
  {
   "cell_type": "code",
   "execution_count": 49,
   "id": "f9e6715e",
   "metadata": {},
   "outputs": [
    {
     "data": {
      "text/plain": [
       "0.9506172839506173"
      ]
     },
     "execution_count": 49,
     "metadata": {},
     "output_type": "execute_result"
    }
   ],
   "source": [
    "clf = joblib.load(\"KNN.pkl\")\n",
    "y_pred = clf.predict(X_test)\n",
    "accuracy_score(y_pred, y_test)"
   ]
  },
  {
   "cell_type": "markdown",
   "id": "d988408f",
   "metadata": {},
   "source": [
    "## Вывод лабораторной работы 1"
   ]
  },
  {
   "cell_type": "markdown",
   "id": "4ada25de",
   "metadata": {},
   "source": [
    "###### В данной части лабораторной работы мной были изучены и составлены 4 предложенных классификатора. С помощью их удалось добиться хороших результатов. Все результаты больше 80. Также был изучен pipeline, который позволяет создавать последовательные стадии использования классификатора (pre-processing, classification ...). Во время выполнения работы также использовал метод GridSearchCV, для определения лучших параметров и использовании кросс-валидации. В результате чего, удалось добиться еще более лучших результатов даже 95 %. Наилушие классификаторы были сохранены в файл формата pickle. "
   ]
  }
 ],
 "metadata": {
  "kernelspec": {
   "display_name": "Python 3 (ipykernel)",
   "language": "python",
   "name": "python3"
  },
  "language_info": {
   "codemirror_mode": {
    "name": "ipython",
    "version": 3
   },
   "file_extension": ".py",
   "mimetype": "text/x-python",
   "name": "python",
   "nbconvert_exporter": "python",
   "pygments_lexer": "ipython3",
   "version": "3.9.7"
  }
 },
 "nbformat": 4,
 "nbformat_minor": 5
}
